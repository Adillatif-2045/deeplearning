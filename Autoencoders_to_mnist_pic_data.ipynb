{
  "nbformat": 4,
  "nbformat_minor": 0,
  "metadata": {
    "colab": {
      "provenance": []
    },
    "kernelspec": {
      "name": "python3",
      "display_name": "Python 3"
    },
    "language_info": {
      "name": "python"
    }
  },
  "cells": [
    {
      "cell_type": "code",
      "execution_count": 81,
      "metadata": {
        "id": "K6fxXHyAJy9P"
      },
      "outputs": [],
      "source": [
        "import keras\n",
        "from keras.layers import Conv2D, Conv2DTranspose, Input,Flatten, Dense, Lambda, Reshape\n",
        "from keras.models import Model\n",
        "from keras.datasets import mnist\n",
        "from keras import backend as k\n",
        "import numpy as np\n",
        "import matplotlib.pyplot as plt"
      ]
    },
    {
      "cell_type": "code",
      "source": [
        "# load dataset\n",
        "# (trainX, trainY), (testX, testY) = mnist.load_data()\n",
        "(train_x,train_y), (test_x, test_y)=mnist.load_data()"
      ],
      "metadata": {
        "id": "nMKPUI9SLeo4"
      },
      "execution_count": 4,
      "outputs": []
    },
    {
      "cell_type": "code",
      "source": [
        "#Normalize data to convert from 2D to 1D\n",
        "train_x = train_x.astype('float32')\n",
        "test_x = test_x.astype('float32')\n",
        "train_x = train_x / 255\n",
        "test_x = test_x / 255"
      ],
      "metadata": {
        "id": "JQ6GVXg5LsUD"
      },
      "execution_count": 6,
      "outputs": []
    },
    {
      "cell_type": "code",
      "source": [
        "# reshape dataset to have a single channel\n",
        "train_x = train_x.reshape((train_x.shape[0], 28, 28, 1))\n",
        "test_x = test_x.reshape((test_x.shape[0], 28, 28, 1))\n",
        "input_shape = (28, 28, 1)\n"
      ],
      "metadata": {
        "id": "NkRRqwD3MtsD"
      },
      "execution_count": 8,
      "outputs": []
    },
    {
      "cell_type": "code",
      "source": [
        "#View a few images\n",
        "plt.figure(1)\n",
        "plt.subplot(221)\n",
        "plt.imshow(train_x[42][:,:,0])\n",
        "\n",
        "plt.subplot(222)\n",
        "plt.imshow(train_x[420][:,:,0])\n",
        "\n",
        "plt.subplot(223)\n",
        "plt.imshow(train_x[4200][:,:,0])\n",
        "\n",
        "plt.subplot(224)\n",
        "plt.imshow(train_x[42000][:,:,0])\n",
        "plt.show()"
      ],
      "metadata": {
        "id": "6DvvRAUjOF6G"
      },
      "execution_count": null,
      "outputs": []
    },
    {
      "cell_type": "code",
      "source": [
        "# build the model then encoder before define 4 Conv2D,flatten, and then dense\n",
        "\n",
        "latent_dim= 2 \n",
        "# Define Encoder and add convolutional layers \n",
        "input_img = Input(shape=input_shape, name='encoder_input')\n",
        "x = Conv2D(32, 3, padding='same', activation='relu')(input_img)\n",
        "x = Conv2D(64, 3, padding='same', activation='relu',strides=(2, 2))(x)\n",
        "x = Conv2D(64, 3, padding='same', activation='relu')(x)\n",
        "x = Conv2D(64, 3, padding='same', activation='relu')(x)\n",
        "#Shape of conv to be provided to decoder\n",
        "conv_shape = k.int_shape(x)\n",
        "#Flatten\n",
        "x=Flatten()(x)\n",
        "x= Dense(32, activation='relu')(x)\n",
        "\n",
        "# Two outputs, for latent mean and log variance (std. dev.)\n",
        " #Mean values of encoded input\n",
        "z_mu = Dense(latent_dim, name='latent_mu')(x)\n",
        "#Std dev. (variance) of encoded input  \n",
        "z_sigma = Dense(latent_dim, name='latent_sigma')(x)  \n"
      ],
      "metadata": {
        "id": "VDVXWiC0PQN3"
      },
      "execution_count": 30,
      "outputs": []
    },
    {
      "cell_type": "code",
      "source": [
        "#REPARAMETERIZATION TRICK\n",
        "#z=mu +sigma times ebslon(ebslon is normal distribution)\n",
        "def sample_z(args):\n",
        "  z_mu, z_sigma = args\n",
        "  eps = k.random_normal(shape=(k.shape(z_mu)[0], k.int_shape(z_mu)[1]))\n",
        "  return z_mu + k.exp(z_sigma / 2) * eps"
      ],
      "metadata": {
        "id": "sBD8Kjv4TLWh"
      },
      "execution_count": 34,
      "outputs": []
    },
    {
      "cell_type": "code",
      "source": [
        "# sample vector from the latent distribution\n",
        "# z is the labda custom layer we are adding for gradient descent calculations using mu and variance (sigma)\n",
        "z = Lambda(sample_z, output_shape=(latent_dim, ), name='z')([z_mu, z_sigma])"
      ],
      "metadata": {
        "id": "2gfwTpIGYLao"
      },
      "execution_count": 35,
      "outputs": []
    },
    {
      "cell_type": "code",
      "source": [
        "#Z (lambda layer) will be the last layer in the encoder.\n",
        "# Define and summarize encoder model.\n",
        "encoder = Model(input_img, [z_mu, z_sigma, z], name='encoder')\n",
        "print(encoder.summary())"
      ],
      "metadata": {
        "colab": {
          "base_uri": "https://localhost:8080/"
        },
        "id": "xTrZo5-qZD-5",
        "outputId": "6b13de9c-d362-45f1-af57-b80fc168e601"
      },
      "execution_count": 36,
      "outputs": [
        {
          "output_type": "stream",
          "name": "stdout",
          "text": [
            "Model: \"encoder\"\n",
            "__________________________________________________________________________________________________\n",
            " Layer (type)                   Output Shape         Param #     Connected to                     \n",
            "==================================================================================================\n",
            " encoder_input (InputLayer)     [(None, 28, 28, 1)]  0           []                               \n",
            "                                                                                                  \n",
            " conv2d_20 (Conv2D)             (None, 28, 28, 32)   320         ['encoder_input[0][0]']          \n",
            "                                                                                                  \n",
            " conv2d_21 (Conv2D)             (None, 14, 14, 64)   18496       ['conv2d_20[0][0]']              \n",
            "                                                                                                  \n",
            " conv2d_22 (Conv2D)             (None, 14, 14, 64)   36928       ['conv2d_21[0][0]']              \n",
            "                                                                                                  \n",
            " conv2d_23 (Conv2D)             (None, 14, 14, 64)   36928       ['conv2d_22[0][0]']              \n",
            "                                                                                                  \n",
            " flatten_2 (Flatten)            (None, 12544)        0           ['conv2d_23[0][0]']              \n",
            "                                                                                                  \n",
            " dense_1 (Dense)                (None, 32)           401440      ['flatten_2[0][0]']              \n",
            "                                                                                                  \n",
            " latent_mu (Dense)              (None, 2)            66          ['dense_1[0][0]']                \n",
            "                                                                                                  \n",
            " latent_sigma (Dense)           (None, 2)            66          ['dense_1[0][0]']                \n",
            "                                                                                                  \n",
            " z (Lambda)                     (None, 2)            0           ['latent_mu[0][0]',              \n",
            "                                                                  'latent_sigma[0][0]']           \n",
            "                                                                                                  \n",
            "==================================================================================================\n",
            "Total params: 494,244\n",
            "Trainable params: 494,244\n",
            "Non-trainable params: 0\n",
            "__________________________________________________________________________________________________\n",
            "None\n"
          ]
        }
      ]
    },
    {
      "cell_type": "code",
      "source": [
        "# Decoder\n",
        "# decoder takes the latent vector as input\n",
        "decoder_input = Input(shape=(latent_dim, ), name='decoder_input')\n",
        "# add dense layer with dimensions that can be reshaped to desired output shape\n",
        "x = Dense(conv_shape[1]*conv_shape[2]*conv_shape[3], activation='relu')(decoder_input)\n",
        "# reshape to the shape of last conv. layer in the encoder, so we can \n",
        "x = Reshape((conv_shape[1], conv_shape[2], conv_shape[3]))(x)"
      ],
      "metadata": {
        "id": "MbGsZa0WZv2k"
      },
      "execution_count": 38,
      "outputs": []
    },
    {
      "cell_type": "code",
      "source": [
        "# upscale (conv2D transpose) back to original shape\n",
        "# use Conv2DTranspose to reverse the conv layers defined in the encoder\n",
        "x = Conv2DTranspose(32, 3, padding='same', activation='relu',strides=(2, 2))(x)"
      ],
      "metadata": {
        "id": "1WKHwWU9aYpZ"
      },
      "execution_count": 39,
      "outputs": []
    },
    {
      "cell_type": "code",
      "source": [
        "#Can add more conv2DTranspose layers, if desired. \n",
        "#Using sigmoid activation\n",
        "x = Conv2DTranspose(1, 3, padding='same', activation='sigmoid', name='decoder_output')(x)"
      ],
      "metadata": {
        "id": "ydg7lLleb8dq"
      },
      "execution_count": 41,
      "outputs": []
    },
    {
      "cell_type": "code",
      "source": [
        "# Define and summarize decoder model\n",
        "decoder = Model(decoder_input, x, name='decoder')\n",
        "decoder.summary()\n",
        "\n",
        "# apply the decoder to the latent sample \n",
        "z_decoded = decoder(z)"
      ],
      "metadata": {
        "colab": {
          "base_uri": "https://localhost:8080/"
        },
        "id": "UqC4t3bicFqT",
        "outputId": "bc17b371-3da5-4762-ed16-4eb44e04226f"
      },
      "execution_count": 42,
      "outputs": [
        {
          "output_type": "stream",
          "name": "stdout",
          "text": [
            "Model: \"decoder\"\n",
            "_________________________________________________________________\n",
            " Layer (type)                Output Shape              Param #   \n",
            "=================================================================\n",
            " decoder_input (InputLayer)  [(None, 2)]               0         \n",
            "                                                                 \n",
            " dense_2 (Dense)             (None, 12544)             37632     \n",
            "                                                                 \n",
            " reshape (Reshape)           (None, 14, 14, 64)        0         \n",
            "                                                                 \n",
            " conv2d_transpose (Conv2DTra  (None, 28, 28, 32)       18464     \n",
            " nspose)                                                         \n",
            "                                                                 \n",
            " decoder_output (Conv2DTrans  (None, 28, 28, 1)        289       \n",
            " pose)                                                           \n",
            "                                                                 \n",
            "=================================================================\n",
            "Total params: 56,385\n",
            "Trainable params: 56,385\n",
            "Non-trainable params: 0\n",
            "_________________________________________________________________\n"
          ]
        }
      ]
    },
    {
      "cell_type": "markdown",
      "source": [
        "Define custom loss\n",
        "VAE is trained using two loss functions reconstruction loss and KL divergence\n",
        "Let us add a class to define a custom layer with loss"
      ],
      "metadata": {
        "id": "a89N5VAXeUm-"
      }
    },
    {
      "cell_type": "code",
      "source": [
        "class CustomLayer(keras.layers.Layer):\n",
        "\n",
        "    def vae_loss(self, x, z_decoded):\n",
        "        x = k.flatten(x)\n",
        "        z_decoded = k.flatten(z_decoded)\n",
        "        \n",
        "        # Reconstruction loss (as we used sigmoid activation we can use binarycrossentropy)\n",
        "        recon_loss = keras.metrics.binary_crossentropy(x, z_decoded)\n",
        "        \n",
        "        # KL divergence\n",
        "        kl_loss = -5e-4 * k.mean(1 + z_sigma - k.square(z_mu) - k.exp(z_sigma), axis=-1)\n",
        "        return k.mean(recon_loss + kl_loss)\n",
        "\n",
        "    # add custom loss to the class\n",
        "    def call(self, inputs):\n",
        "        x = inputs[0]\n",
        "        z_decoded = inputs[1]\n",
        "        loss = self.vae_loss(x, z_decoded)\n",
        "        self.add_loss(loss, inputs=inputs)\n",
        "        return x\n",
        "# apply the custom loss to the input images and the decoded latent distribution sample y is original image after encoding input img to mu, sigma, z\n",
        "y = CustomLayer()([input_img, z_decoded])\n"
      ],
      "metadata": {
        "id": "lod-Gm6WckjV"
      },
      "execution_count": 52,
      "outputs": []
    },
    {
      "cell_type": "code",
      "source": [
        "# VAE \n",
        "\n",
        "vae = Model(input_img, y, name='vae')\n",
        "\n",
        "# Compile VAE\n",
        "vae.compile(optimizer='adam', loss = \"binary_crossentropy\")\n",
        "vae.summary()\n",
        "\n",
        "# Train autoencoder\n",
        "vae.fit(train_x, None, epochs = 5, batch_size = 32, validation_split = 0.2)\n",
        "\n"
      ],
      "metadata": {
        "colab": {
          "base_uri": "https://localhost:8080/"
        },
        "id": "ghd_0-PjegdE",
        "outputId": "ff40451d-3d14-4ae1-91e6-31e2def120ec"
      },
      "execution_count": 79,
      "outputs": [
        {
          "output_type": "stream",
          "name": "stdout",
          "text": [
            "Model: \"vae\"\n",
            "__________________________________________________________________________________________________\n",
            " Layer (type)                   Output Shape         Param #     Connected to                     \n",
            "==================================================================================================\n",
            " encoder_input (InputLayer)     [(None, 28, 28, 1)]  0           []                               \n",
            "                                                                                                  \n",
            " conv2d_24 (Conv2D)             (None, 28, 28, 32)   320         ['encoder_input[0][0]']          \n",
            "                                                                                                  \n",
            " conv2d_25 (Conv2D)             (None, 14, 14, 64)   18496       ['conv2d_24[0][0]']              \n",
            "                                                                                                  \n",
            " conv2d_26 (Conv2D)             (None, 14, 14, 64)   36928       ['conv2d_25[0][0]']              \n",
            "                                                                                                  \n",
            " conv2d_27 (Conv2D)             (None, 14, 14, 64)   36928       ['conv2d_26[0][0]']              \n",
            "                                                                                                  \n",
            " flatten_3 (Flatten)            (None, 12544)        0           ['conv2d_27[0][0]']              \n",
            "                                                                                                  \n",
            " dense_3 (Dense)                (None, 32)           401440      ['flatten_3[0][0]']              \n",
            "                                                                                                  \n",
            " latent_mu (Dense)              (None, 2)            66          ['dense_3[0][0]']                \n",
            "                                                                                                  \n",
            " latent_sigma (Dense)           (None, 2)            66          ['dense_3[0][0]']                \n",
            "                                                                                                  \n",
            " z (Lambda)                     (None, 2)            0           ['latent_mu[0][0]',              \n",
            "                                                                  'latent_sigma[0][0]']           \n",
            "                                                                                                  \n",
            " decoder (Functional)           (None, 28, 28, 1)    56385       ['z[0][0]']                      \n",
            "                                                                                                  \n",
            " custom_layer_6 (CustomLayer)   (None, 28, 28, 1)    0           ['encoder_input[0][0]',          \n",
            "                                                                  'decoder[0][0]']                \n",
            "                                                                                                  \n",
            "==================================================================================================\n",
            "Total params: 550,629\n",
            "Trainable params: 550,629\n",
            "Non-trainable params: 0\n",
            "__________________________________________________________________________________________________\n"
          ]
        }
      ]
    },
    {
      "cell_type": "code",
      "source": [
        "mu, _, _ = encoder.predict(test_x)\n",
        "#Plot dim1 and dim2 for mu\n",
        "plt.figure(figsize=(10, 10))\n",
        "plt.scatter(mu[:, 0], mu[:, 1], c=test_y, cmap='brg')\n",
        "plt.xlabel('dim 1')\n",
        "plt.ylabel('dim 2')\n",
        "plt.colorbar()\n",
        "plt.show()"
      ],
      "metadata": {
        "id": "JoL9DgwifEGy"
      },
      "execution_count": 80,
      "outputs": []
    },
    {
      "cell_type": "code",
      "source": [
        "sample_vector = np.array([[1,-1]])\n",
        "decoded_example = decoder.predict(sample_vector)\n",
        "decoded_example_reshaped = decoded_example.reshape(img_width, img_height)\n",
        "plt.imshow(decoded_example_reshaped)"
      ],
      "metadata": {
        "id": "EvynCX3mmo8X"
      },
      "execution_count": 80,
      "outputs": []
    },
    {
      "cell_type": "code",
      "source": [
        "# generate 15x15 digits\n",
        "n = 20   \n",
        "figure = np.zeros((img_width * n, img_height * n, num_channels))\n",
        "grid_x = np.linspace(-5, 5, n)\n",
        "grid_y = np.linspace(-5, 5, n)[::-1]\n",
        "\n",
        "# decoder for each square in the grid\n",
        "for i, yi in enumerate(grid_y):\n",
        "    for j, xi in enumerate(grid_x):\n",
        "        z_sample = np.array([[xi, yi]])\n",
        "        x_decoded = decoder.predict(z_sample)\n",
        "        digit = x_decoded[0].reshape(img_width, img_height, num_channels)\n",
        "        figure[i * img_width: (i + 1) * img_width,\n",
        "               j * img_height: (j + 1) * img_height] = digit\n",
        "\n",
        "plt.figure(figsize=(10, 10))\n",
        "#Reshape for visualization\n",
        "fig_shape = np.shape(figure)\n",
        "figure = figure.reshape((fig_shape[0], fig_shape[1]))\n",
        "\n",
        "plt.imshow(figure, cmap='gnuplot2')\n",
        "plt.show()  "
      ],
      "metadata": {
        "id": "eV4z6ywgnXEn"
      },
      "execution_count": null,
      "outputs": []
    },
    {
      "cell_type": "code",
      "source": [],
      "metadata": {
        "id": "3g4_JaZ5oMgG"
      },
      "execution_count": null,
      "outputs": []
    }
  ]
}